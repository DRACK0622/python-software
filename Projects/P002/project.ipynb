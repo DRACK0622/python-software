{
 "cells": [
  {
   "cell_type": "code",
   "execution_count": 1,
   "id": "237c5cde-ca54-42e4-9cc4-6f67d314b9d2",
   "metadata": {},
   "outputs": [
    {
     "name": "stdin",
     "output_type": "stream",
     "text": [
      "Enter your directory:  G:\\University\\Projects\\Advanced programming\\project\n"
     ]
    },
    {
     "name": "stdout",
     "output_type": "stream",
     "text": [
      "1. see all files within this directory.\n",
      "2. read a file.\n",
      "3. change name.\n",
      "4. change directory.\n",
      "-1. Exit\n"
     ]
    },
    {
     "name": "stdin",
     "output_type": "stream",
     "text": [
      "Enter a command number: 1\n"
     ]
    },
    {
     "name": "stdout",
     "output_type": "stream",
     "text": [
      "G:\\University\\Projects\\Advanced programming\\project\\t0.txt\n",
      "G:\\University\\Projects\\Advanced programming\\project\\t2.txt\n",
      "G:\\University\\Projects\\Advanced programming\\project\\t3.txt\n",
      "G:\\University\\Projects\\Advanced programming\\project\\t4.txt\n",
      "----- 4 files were found-----\n",
      "1. see all files within this directory.\n",
      "2. read a file.\n",
      "3. change name.\n",
      "4. change directory.\n",
      "-1. Exit\n"
     ]
    },
    {
     "name": "stdin",
     "output_type": "stream",
     "text": [
      "Enter a command number: -1\n"
     ]
    },
    {
     "name": "stdout",
     "output_type": "stream",
     "text": [
      "it was a pleasure helping you.\n"
     ]
    }
   ],
   "source": [
    "import os\n",
    "\n",
    "directory=input(\"Enter your directory: \")\n",
    "\n",
    "def showallfiles():#https://stackoverflow.com/questions/3964681/find-all-files-in-a-directory-with-extension-txt-in-python\n",
    "    count=0\n",
    "    for root, dirs, files in os.walk(directory):\n",
    "        for file in files:\n",
    "            if file.endswith(\".txt\"):\n",
    "                print(os.path.join(root, file))\n",
    "                count+=1\n",
    "    print(\"-----\",count,\"files were found-----\")\n",
    "def readfile():#https://www.google.com/search?q=how+to+read+line+all+lines+in+a+file+python&rlz=1C1CHBD_en-GBIR1022IR1022&oq=how+to+read+line+all+lines+in+&gs_lcrp=EgZjaHJvbWUqCggFECEYFhgdGB4yBggAEEUYOTIHCAEQIRigATIHCAIQIRigATIHCAMQIRigATIHCAQQIRigATIKCAUQIRgWGB0YHjIKCAYQIRgWGB0YHjIKCAcQIRgWGB0YHjIKCAgQIRgWGB0YHjIKCAkQIRgWGB0YHtIBCTIxMjQxajBqN6gCALACAA&sourceid=chrome&ie=UTF-8\n",
    "    filename=input(\"enter filename: \")\n",
    "    with open(directory+\"/\"+filename+\".txt\") as file_in:\n",
    "        for line in file_in:\n",
    "            print(line)\n",
    "def rebrand():#https://www.google.com/search?q=how+to+rename+file+in+python&rlz=1C1CHBD_en-GBIR1022IR1022&oq=how+to+rename+file+&gs_lcrp=EgZjaHJvbWUqBwgCEAAYgAQyBggAEEUYOTIHCAEQABiABDIHCAIQABiABDIHCAMQABiABDIHCAQQABiABDIHCAUQABiABDIHCAYQABiABDIHCAcQABiABDIHCAgQABiABDIHCAkQABiABNIBCDU3NDdqMGo0qAIAsAIA&sourceid=chrome&ie=UTF-8\n",
    "    file1=input(\"which file do you want to rename: \")+\".txt\"\n",
    "    file2=input(\"what do you wish to name it: \")+\".txt\"\n",
    "    os.rename(directory+\"/\"+file1,directory+\"/\"+file2) \n",
    "def changedir():\n",
    "    directory=input(\"Enter your directory: \")\n",
    "def getentery():\n",
    "    print(\"1. see all files within this directory.\")\n",
    "    print(\"2. read a file.\")\n",
    "    print(\"3. change name.\")\n",
    "    print(\"4. change directory.\")\n",
    "    print(\"-1. Exit\")\n",
    "    return(int(input(\"Enter a command number:\")))\n",
    "\n",
    "\n",
    "def main(num:int):\n",
    "    while(num!=-1):\n",
    "        if(num==1):\n",
    "            showallfiles()\n",
    "        elif(num==2):\n",
    "            readfile()\n",
    "        elif(num==3):\n",
    "            rebrand()\n",
    "        elif(num==4):\n",
    "            changedir()\n",
    "        else:\n",
    "            print(\"command not found!\")\n",
    "            print(\"please try again!\")\n",
    "        \n",
    "        num=getentery()\n",
    "\n",
    "    print(\"it was a pleasure helping you.\")\n",
    "\n",
    "main(getentery())"
   ]
  },
  {
   "cell_type": "code",
   "execution_count": null,
   "id": "fa2f85d4-9964-4b46-a4b8-0f69b3590ce8",
   "metadata": {},
   "outputs": [],
   "source": []
  }
 ],
 "metadata": {
  "kernelspec": {
   "display_name": "Python 3 (ipykernel)",
   "language": "python",
   "name": "python3"
  },
  "language_info": {
   "codemirror_mode": {
    "name": "ipython",
    "version": 3
   },
   "file_extension": ".py",
   "mimetype": "text/x-python",
   "name": "python",
   "nbconvert_exporter": "python",
   "pygments_lexer": "ipython3",
   "version": "3.10.7"
  }
 },
 "nbformat": 4,
 "nbformat_minor": 5
}
