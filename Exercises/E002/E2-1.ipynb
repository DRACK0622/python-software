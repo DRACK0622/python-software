{
 "cells": [
  {
   "cell_type": "code",
   "execution_count": 1,
   "id": "167a7206-6a1e-4f78-bfc5-a7c520d2a9b7",
   "metadata": {},
   "outputs": [
    {
     "name": "stdout",
     "output_type": "stream",
     "text": [
      "َArmin\n",
      "Fathi\n",
      "20\n"
     ]
    }
   ],
   "source": [
    "print(\"َArmin\")\n",
    "print(\"Fathi\")\n",
    "print(\"20\")"
   ]
  },
  {
   "cell_type": "code",
   "execution_count": null,
   "id": "0dc69e09-89d6-411b-9897-039cb4b03e63",
   "metadata": {},
   "outputs": [],
   "source": []
  }
 ],
 "metadata": {
  "kernelspec": {
   "display_name": "Python 3 (ipykernel)",
   "language": "python",
   "name": "python3"
  },
  "language_info": {
   "codemirror_mode": {
    "name": "ipython",
    "version": 3
   },
   "file_extension": ".py",
   "mimetype": "text/x-python",
   "name": "python",
   "nbconvert_exporter": "python",
   "pygments_lexer": "ipython3",
   "version": "3.10.7"
  }
 },
 "nbformat": 4,
 "nbformat_minor": 5
}
