{
 "cells": [
  {
   "cell_type": "code",
   "execution_count": 1,
   "id": "1e8c62b8-bdf7-4fe3-b1cf-b65505730a16",
   "metadata": {},
   "outputs": [],
   "source": [
    "def printdata(name,lastname,age):\n",
    "    print(name)\n",
    "    print(lastname)\n",
    "    print(age)\n"
   ]
  },
  {
   "cell_type": "code",
   "execution_count": 2,
   "id": "ec41a4a8-515c-4fd3-82f3-e840c21707e0",
   "metadata": {},
   "outputs": [
    {
     "name": "stdout",
     "output_type": "stream",
     "text": [
      "Armin\n",
      "Fathi\n",
      "20\n"
     ]
    }
   ],
   "source": [
    "printdata(\"Armin\",\"Fathi\",20)"
   ]
  },
  {
   "cell_type": "code",
   "execution_count": null,
   "id": "9eefa23f-032e-414d-bb6f-fd9ba90d0d51",
   "metadata": {},
   "outputs": [],
   "source": []
  }
 ],
 "metadata": {
  "kernelspec": {
   "display_name": "Python 3 (ipykernel)",
   "language": "python",
   "name": "python3"
  },
  "language_info": {
   "codemirror_mode": {
    "name": "ipython",
    "version": 3
   },
   "file_extension": ".py",
   "mimetype": "text/x-python",
   "name": "python",
   "nbconvert_exporter": "python",
   "pygments_lexer": "ipython3",
   "version": "3.10.7"
  }
 },
 "nbformat": 4,
 "nbformat_minor": 5
}
