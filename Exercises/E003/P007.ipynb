{
 "cells": [
  {
   "cell_type": "code",
   "execution_count": 24,
   "id": "f3a66976-8095-4472-9454-5d8f8a5e94dd",
   "metadata": {},
   "outputs": [
    {
     "name": "stdout",
     "output_type": "stream",
     "text": [
      "finished \n"
     ]
    }
   ],
   "source": [
    "def countdown(a,b):\n",
    "    if(a<=0):\n",
    "        print(\"finished \")\n",
    "        \n",
    "    else:\n",
    "        countdown(a-b,b)\n",
    "\n",
    "countdown(30,7)"
   ]
  }
 ],
 "metadata": {
  "kernelspec": {
   "display_name": "Python 3 (ipykernel)",
   "language": "python",
   "name": "python3"
  },
  "language_info": {
   "codemirror_mode": {
    "name": "ipython",
    "version": 3
   },
   "file_extension": ".py",
   "mimetype": "text/x-python",
   "name": "python",
   "nbconvert_exporter": "python",
   "pygments_lexer": "ipython3",
   "version": "3.10.7"
  }
 },
 "nbformat": 4,
 "nbformat_minor": 5
}
