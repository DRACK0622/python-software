{
 "cells": [
  {
   "cell_type": "code",
   "execution_count": 1,
   "id": "3fa610a3-50ca-458c-975d-c6acc95efbf6",
   "metadata": {},
   "outputs": [
    {
     "name": "stdout",
     "output_type": "stream",
     "text": [
      "Square root of 15 is 3.872983346207417.\n"
     ]
    }
   ],
   "source": [
    "import math as ma #importing the math library as ma\n",
    "\n",
    "def printsqrt(a): #delaring the function\n",
    "    print(\"Square root of \"+str(a)+\" is \"+str(ma.sqrt(a))+\".\") #calculating and printing the resulat\n",
    "\n",
    "printsqrt(15) #calling the function with the value of 15"
   ]
  },
  {
   "cell_type": "code",
   "execution_count": null,
   "id": "c7e0fa2c-7caf-4202-92d9-c785d9f6cfee",
   "metadata": {},
   "outputs": [],
   "source": []
  }
 ],
 "metadata": {
  "kernelspec": {
   "display_name": "Python 3 (ipykernel)",
   "language": "python",
   "name": "python3"
  },
  "language_info": {
   "codemirror_mode": {
    "name": "ipython",
    "version": 3
   },
   "file_extension": ".py",
   "mimetype": "text/x-python",
   "name": "python",
   "nbconvert_exporter": "python",
   "pygments_lexer": "ipython3",
   "version": "3.10.7"
  }
 },
 "nbformat": 4,
 "nbformat_minor": 5
}
