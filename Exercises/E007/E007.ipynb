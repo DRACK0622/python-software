{
 "cells": [
  {
   "cell_type": "code",
   "execution_count": 1,
   "id": "ee230c18-d3d2-461d-ac00-6e8cbf66c27a",
   "metadata": {},
   "outputs": [
    {
     "name": "stdout",
     "output_type": "stream",
     "text": [
      "False\n"
     ]
    }
   ],
   "source": [
    "#E001\n",
    "a='true'\n",
    "b='false'\n",
    "print(a==b)"
   ]
  },
  {
   "cell_type": "code",
   "execution_count": 3,
   "id": "0c4ebcab-364b-45aa-a978-f349f265017e",
   "metadata": {},
   "outputs": [
    {
     "name": "stdin",
     "output_type": "stream",
     "text": [
      "Enter txt1:  txt\n",
      "Enter txt2:  txt\n"
     ]
    },
    {
     "name": "stdout",
     "output_type": "stream",
     "text": [
      "True\n"
     ]
    }
   ],
   "source": [
    "#E002\n",
    "def E002(str1,str2):\n",
    "    txt=''\n",
    "    for s in str1:\n",
    "        txt=s+txt\n",
    "    print(txt==str2)\n",
    "E002(input('Enter txt1: '),input('Enter txt2: '))    "
   ]
  },
  {
   "cell_type": "code",
   "execution_count": 5,
   "id": "24d97912-a68a-4991-80ce-7225c1516154",
   "metadata": {},
   "outputs": [
    {
     "name": "stdout",
     "output_type": "stream",
     "text": [
      "Hello world!\n"
     ]
    }
   ],
   "source": [
    "#E003\n",
    "file=open(\"text.txt\")\n",
    "print(file.readline())"
   ]
  },
  {
   "cell_type": "code",
   "execution_count": 6,
   "id": "2299cebb-a09d-4076-9e7d-ec6896cfdfd9",
   "metadata": {},
   "outputs": [
    {
     "name": "stdout",
     "output_type": "stream",
     "text": [
      "1\n",
      "20\n",
      "16\n",
      "15\n",
      "['a', 'b', 'c', 'd']\n",
      "2.6\n",
      "2.5\n",
      "1.9\n",
      "7.6\n"
     ]
    }
   ],
   "source": [
    "#E004\n",
    "a=[1,20,16,15,['a','b','c','d'],2.6,2.5,1.9,7.6]\n",
    "for b in a:\n",
    "    print(b)"
   ]
  },
  {
   "cell_type": "code",
   "execution_count": 8,
   "id": "610be5d9-4264-4c46-a751-c7ab4876893b",
   "metadata": {},
   "outputs": [
    {
     "name": "stdout",
     "output_type": "stream",
     "text": [
      "[7.6, 1.9, 2.5, 2.6, ['a', 'b', 'c', 'd'], 15, 16, 20, 1]\n"
     ]
    }
   ],
   "source": [
    "#E005\n",
    "a=[1,20,16,15,['a','b','c','d'],2.6,2.5,1.9,7.6]\n",
    "c=a[::-1]\n",
    "print(c)"
   ]
  },
  {
   "cell_type": "code",
   "execution_count": 9,
   "id": "aa96a4a6-e689-4e8c-90af-31778bb1b4c3",
   "metadata": {},
   "outputs": [
    {
     "name": "stdout",
     "output_type": "stream",
     "text": [
      "False\n"
     ]
    }
   ],
   "source": [
    "#E006\n",
    "a=[1,20,16,15,['a','b','c','d'],2.6,2.5,1.9,7.6]\n",
    "b=a[::-1]\n",
    "print(a==b)"
   ]
  },
  {
   "cell_type": "code",
   "execution_count": null,
   "id": "0cb4b9e0-6d31-4492-b726-0e12686d67bd",
   "metadata": {},
   "outputs": [],
   "source": [
    "#E007\n"
   ]
  }
 ],
 "metadata": {
  "kernelspec": {
   "display_name": "Python 3 (ipykernel)",
   "language": "python",
   "name": "python3"
  },
  "language_info": {
   "codemirror_mode": {
    "name": "ipython",
    "version": 3
   },
   "file_extension": ".py",
   "mimetype": "text/x-python",
   "name": "python",
   "nbconvert_exporter": "python",
   "pygments_lexer": "ipython3",
   "version": "3.10.7"
  }
 },
 "nbformat": 4,
 "nbformat_minor": 5
}
