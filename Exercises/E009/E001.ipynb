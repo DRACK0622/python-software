{
 "cells": [
  {
   "cell_type": "code",
   "execution_count": 4,
   "id": "9f057fa3-ec59-43ca-9644-23e31810a13d",
   "metadata": {},
   "outputs": [
    {
     "name": "stdout",
     "output_type": "stream",
     "text": [
      "mango  is a  yellow   round  fruit\n"
     ]
    }
   ],
   "source": [
    "#E001\n",
    "#class\n",
    "class fruit:\n",
    "    def __init__(self,name,color,shape):\n",
    "        self.name=name\n",
    "        self.color=color\n",
    "        self.shape=shape\n",
    "    def show(self):\n",
    "        print(self.name,\" is a \",self.color,\" \",self.shape,\" fruit\")\n",
    "\n",
    "p1=fruit(\"mango\",\"yellow\",\"round\")\n",
    "p1.show()"
   ]
  },
  {
   "cell_type": "code",
   "execution_count": 15,
   "id": "569f2540-e515-43f8-9632-30c5a62267f0",
   "metadata": {},
   "outputs": [
    {
     "name": "stdout",
     "output_type": "stream",
     "text": [
      "mango  is a  yellow   round  fruit\n",
      "tastes like number 5\n"
     ]
    }
   ],
   "source": [
    "#E002\n",
    "#inheritence\n",
    "class taste:\n",
    "    def __init__(self,taste):\n",
    "        self.taste=str(taste)\n",
    "    def tlike(self):\n",
    "        print(\"tastes like\",self.taste)\n",
    "        \n",
    "class fruit(taste):\n",
    "    def __init__(self,name,color,shape,tastes):\n",
    "        self.name=name\n",
    "        self.color=color\n",
    "        self.shape=shape\n",
    "        taste.__init__(self,tastes)\n",
    "    def show(self):\n",
    "        print(self.name,\" is a \",self.color,\" \",self.shape,\" fruit\")\n",
    "e002=fruit(\"mango\",\"yellow\",\"round\",\"number 5\")\n",
    "\n",
    "e002.show()\n",
    "e002.tlike()"
   ]
  },
  {
   "cell_type": "code",
   "execution_count": 20,
   "id": "52a0b196-8f4f-4ad1-a3bc-d9739648b7b6",
   "metadata": {},
   "outputs": [
    {
     "name": "stdin",
     "output_type": "stream",
     "text": [
      "enter a value:  5\n",
      "enter your next value:  fjkld\n",
      "enter your next value:  ali\n",
      "enter your next value:  reza\n",
      "enter your next value:  98\n",
      "enter your next value:  mohamad\n",
      "enter your next value:  65\n",
      "enter your next value:  Amin\n",
      "enter your next value:  -1\n"
     ]
    },
    {
     "name": "stdout",
     "output_type": "stream",
     "text": [
      "<class 'tuple'>\n",
      "('5', 'f', 'j', 'k', 'l', 'd', 'a', 'l', 'i', 'r', 'e', 'z', 'a', '9', '8', 'm', 'o', 'h', 'a', 'm', 'a', 'd', '6', '5', 'A', 'm', 'i', 'n')\n"
     ]
    }
   ],
   "source": [
    "#E003\n",
    "#tupple\n",
    "\n",
    "e003=()\n",
    "i=input(\"enter a value: \")\n",
    "while(i!=\"-1\"):\n",
    "    e003+=tuple(i)\n",
    "    i=input(\"enter your next value: \")\n",
    "\n",
    "print(type(e003))\n",
    "print(e003)"
   ]
  },
  {
   "cell_type": "code",
   "execution_count": 22,
   "id": "6f9c2cac-566c-4913-900b-f790cbfc1b90",
   "metadata": {},
   "outputs": [
    {
     "name": "stdin",
     "output_type": "stream",
     "text": [
      "enter a value:  15\n",
      "enter your next value:  35\n",
      "enter your next value:  94\n",
      "enter your next value:  dskjfs\n",
      "enter your next value:  kl;sf\n",
      "enter your next value:  fsjldk\n",
      "enter your next value:  mxv\n",
      "enter your next value:  -1\n"
     ]
    },
    {
     "name": "stdout",
     "output_type": "stream",
     "text": [
      "<class 'set'>\n",
      "{'dskjfs', 'mxv', '94', '15', 'kl;sf', '35', 'fsjldk'}\n"
     ]
    }
   ],
   "source": [
    "#E004\n",
    "#sets\n",
    "e004=set()\n",
    "i=input(\"enter a value: \")\n",
    "while(i!=\"-1\"):\n",
    "    e004.add(i)\n",
    "    i=input(\"enter your next value: \")\n",
    "print(type(e004))\n",
    "print(e004)"
   ]
  },
  {
   "cell_type": "code",
   "execution_count": 31,
   "id": "bcf88262-16e5-4515-a2e7-17a0a4e62750",
   "metadata": {},
   "outputs": [
    {
     "name": "stdin",
     "output_type": "stream",
     "text": [
      "enter a number:  5\n",
      "enter a number:  2\n"
     ]
    },
    {
     "name": "stdout",
     "output_type": "stream",
     "text": [
      "4\n"
     ]
    }
   ],
   "source": [
    "#E005\n",
    "#lambda\n",
    "\n",
    "def e005(a):\n",
    "    return lambda a:a**i\n",
    "x=e005(int(input(\"enter a number: \")))\n",
    "print(x(int(input(\"enter a number: \"))))"
   ]
  },
  {
   "cell_type": "code",
   "execution_count": 36,
   "id": "4c5d6ace-4864-4aa2-9b1e-03ea61576034",
   "metadata": {},
   "outputs": [
    {
     "name": "stdout",
     "output_type": "stream",
     "text": [
      "2023-12-09 10:04:11.389353\n",
      "2023\n",
      "December\n",
      "Saturday\n"
     ]
    }
   ],
   "source": [
    "#E006\n",
    "#date and time\n",
    "import datetime as dt\n",
    "\n",
    "print(dt.datetime.now())"
   ]
  },
  {
   "cell_type": "code",
   "execution_count": 43,
   "id": "ac84f25a-c801-4430-83eb-380da38ffad4",
   "metadata": {},
   "outputs": [
    {
     "ename": "ModuleNotFoundError",
     "evalue": "No module named 'module1'",
     "output_type": "error",
     "traceback": [
      "\u001b[1;31m---------------------------------------------------------------------------\u001b[0m",
      "\u001b[1;31mModuleNotFoundError\u001b[0m                       Traceback (most recent call last)",
      "Cell \u001b[1;32mIn[43], line 3\u001b[0m\n\u001b[0;32m      1\u001b[0m \u001b[38;5;66;03m#E007\u001b[39;00m\n\u001b[0;32m      2\u001b[0m \u001b[38;5;66;03m#module 1 \u001b[39;00m\n\u001b[1;32m----> 3\u001b[0m \u001b[38;5;28;01mfrom\u001b[39;00m \u001b[38;5;21;01mmodule1\u001b[39;00m \u001b[38;5;28;01mimport\u001b[39;00m p2\n\u001b[0;32m      5\u001b[0m x\u001b[38;5;241m=\u001b[39m\u001b[38;5;124m\"\u001b[39m\u001b[38;5;124mThis is E007\u001b[39m\u001b[38;5;124m\"\u001b[39m\n\u001b[0;32m      7\u001b[0m p2(\u001b[38;5;124m\"\u001b[39m\u001b[38;5;124mThis is E007\u001b[39m\u001b[38;5;124m\"\u001b[39m)\n",
      "\u001b[1;31mModuleNotFoundError\u001b[0m: No module named 'module1'"
     ]
    }
   ],
   "source": [
    "#E007\n",
    "#module 1 \n",
    "from module1 import p2\n",
    "\n",
    "x=\"This is E007\"\n",
    "\n",
    "p2(\"This is E007\")"
   ]
  },
  {
   "cell_type": "code",
   "execution_count": null,
   "id": "86bf483a-6022-4f6f-a5c6-716923d74e1a",
   "metadata": {},
   "outputs": [],
   "source": [
    "#E008\n",
    "import datetime\n",
    "print(dt.datetime.now().year)\n"
   ]
  },
  {
   "cell_type": "code",
   "execution_count": null,
   "id": "343a5bb8-18c8-4d29-a866-2cb095c61e2c",
   "metadata": {},
   "outputs": [],
   "source": [
    "#E009\n",
    "\n",
    "import datetime\n",
    "print(dt.datetime.now().strftime(\"%B\"))"
   ]
  },
  {
   "cell_type": "code",
   "execution_count": null,
   "id": "4c79465c-dfad-408c-8478-b5609c1afafa",
   "metadata": {},
   "outputs": [],
   "source": [
    "#E010\n",
    "\n",
    "import datetime\n",
    "print(dt.datetime.now().strftime(\"%A\"))"
   ]
  },
  {
   "cell_type": "code",
   "execution_count": 45,
   "id": "6bbbe0b3-64dc-4387-af0a-3129d3d9d1c4",
   "metadata": {},
   "outputs": [
    {
     "name": "stdout",
     "output_type": "stream",
     "text": [
      "False\n",
      "False\n",
      "True\n"
     ]
    }
   ],
   "source": [
    "#E011 & E012\n",
    "\n",
    "b={'ali':22,'Amin':31}\n",
    "\n",
    "print(31 in b)\n",
    "print('A' in b)\n",
    "print('Amin' in b)"
   ]
  },
  {
   "cell_type": "code",
   "execution_count": 49,
   "id": "885c5b7a-2d1d-4aa1-b261-0e881452e600",
   "metadata": {},
   "outputs": [
    {
     "name": "stdout",
     "output_type": "stream",
     "text": [
      "['Amin', 'Reza', 'ali']\n"
     ]
    }
   ],
   "source": [
    "#E013\n",
    "b={'ali':22,'Reza':52,'Amin':31}\n",
    "print(sorted(b))\n",
    "#b.sort() #ارور میده\n",
    "#print(b) #ارور میده\n",
    "#print(sum(b)) #ارور میده"
   ]
  },
  {
   "cell_type": "code",
   "execution_count": 56,
   "id": "9187355d-4a72-47b1-b273-7c15eda61633",
   "metadata": {},
   "outputs": [
    {
     "name": "stdout",
     "output_type": "stream",
     "text": [
      "{'ali': 22, 'Reza': 52, 'Ahmed': 32}\n"
     ]
    },
    {
     "ename": "AttributeError",
     "evalue": "'dict' object has no attribute 'remove'",
     "output_type": "error",
     "traceback": [
      "\u001b[1;31m---------------------------------------------------------------------------\u001b[0m",
      "\u001b[1;31mAttributeError\u001b[0m                            Traceback (most recent call last)",
      "Cell \u001b[1;32mIn[56], line 8\u001b[0m\n\u001b[0;32m      6\u001b[0m b\u001b[38;5;241m.\u001b[39mpop(\u001b[38;5;124m'\u001b[39m\u001b[38;5;124mAmin\u001b[39m\u001b[38;5;124m'\u001b[39m)\n\u001b[0;32m      7\u001b[0m \u001b[38;5;28mprint\u001b[39m(b)\n\u001b[1;32m----> 8\u001b[0m \u001b[43mb\u001b[49m\u001b[38;5;241;43m.\u001b[39;49m\u001b[43mremove\u001b[49m(\u001b[38;5;241m32\u001b[39m)\n\u001b[0;32m      9\u001b[0m \u001b[38;5;28mprint\u001b[39m(b)\n",
      "\u001b[1;31mAttributeError\u001b[0m: 'dict' object has no attribute 'remove'"
     ]
    }
   ],
   "source": [
    "#E014\n",
    "b={'ali':22,'Reza':52,'Amin':31,'Ahmed':32}\n",
    "\n",
    "#b.append('behnaz':23) #ارور میده\n",
    "#print(b.find(52)) #ارور میده\n",
    "b.pop('Amin')\n",
    "print(b)\n",
    "#b.remove(32) #ارور میده\n",
    "#print(b)"
   ]
  },
  {
   "cell_type": "code",
   "execution_count": 69,
   "id": "957dc670-6013-4ffe-8fe6-55cb3c4f6a21",
   "metadata": {},
   "outputs": [
    {
     "name": "stdout",
     "output_type": "stream",
     "text": [
      "Ahmed\n"
     ]
    }
   ],
   "source": [
    "#E015\n",
    "\n",
    "b={'ali':22,'Reza':52,'Amin':31,'Ahmed':32}\n",
    "\n",
    "f=32\n",
    "for a in b:\n",
    "    if (b[a]==f):\n",
    "        print(a)\n",
    "    "
   ]
  },
  {
   "cell_type": "code",
   "execution_count": 72,
   "id": "ebb1a2d6-1ace-4992-a162-6e6ed2cd03c2",
   "metadata": {},
   "outputs": [
    {
     "name": "stdin",
     "output_type": "stream",
     "text": [
      "enter a text sdgjhfkdsjlhgufdjfkjshasdslajldkjaf\n"
     ]
    },
    {
     "name": "stdout",
     "output_type": "stream",
     "text": [
      "{'s': 5, 'd': 5, 'g': 2, 'j': 6, 'h': 3, 'f': 4, 'k': 3, 'l': 3, 'u': 1, 'a': 3}\n"
     ]
    }
   ],
   "source": [
    "#E016\n",
    "b={}\n",
    "a=input(\"enter a text\")\n",
    "\n",
    "for c in a:\n",
    "    if c in b:\n",
    "        b[c]+=1\n",
    "    else:\n",
    "        b[c]=1\n",
    "print(b)"
   ]
  },
  {
   "cell_type": "code",
   "execution_count": 75,
   "id": "efd5c2a0-589c-4817-8c74-025a01b89ec9",
   "metadata": {},
   "outputs": [
    {
     "name": "stdin",
     "output_type": "stream",
     "text": [
      "enter a text jkhsdkjfhrehtdkjfhgksjrh\n"
     ]
    },
    {
     "name": "stdout",
     "output_type": "stream",
     "text": [
      "j : 4\n",
      "k : 4\n",
      "h : 5\n",
      "s : 2\n",
      "d : 2\n",
      "f : 2\n",
      "r : 2\n",
      "e : 1\n",
      "t : 1\n",
      "g : 1\n"
     ]
    }
   ],
   "source": [
    "#E017\n",
    "b=dict()\n",
    "a=input(\"enter a text\")\n",
    "\n",
    "for c in a:\n",
    "    if c in b:\n",
    "        b[c]+=1\n",
    "    else:\n",
    "        b[c]=1\n",
    "\n",
    "for c in b:\n",
    "    print(c,\":\",b[c])"
   ]
  }
 ],
 "metadata": {
  "kernelspec": {
   "display_name": "Python 3 (ipykernel)",
   "language": "python",
   "name": "python3"
  },
  "language_info": {
   "codemirror_mode": {
    "name": "ipython",
    "version": 3
   },
   "file_extension": ".py",
   "mimetype": "text/x-python",
   "name": "python",
   "nbconvert_exporter": "python",
   "pygments_lexer": "ipython3",
   "version": "3.10.7"
  }
 },
 "nbformat": 4,
 "nbformat_minor": 5
}
