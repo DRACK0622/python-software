{
 "cells": [
  {
   "cell_type": "code",
   "execution_count": 6,
   "id": "19ce1f5f-9d4f-40dd-a15b-25badeb25894",
   "metadata": {},
   "outputs": [
    {
     "name": "stdin",
     "output_type": "stream",
     "text": [
      "Enter number 1 : 15\n",
      "Enter number 2 : 55\n",
      "Enter number 3 : 65\n"
     ]
    },
    {
     "data": {
      "text/plain": [
       "72.57603668193913"
      ]
     },
     "execution_count": 6,
     "metadata": {},
     "output_type": "execute_result"
    }
   ],
   "source": [
    "import math as m\n",
    "def formula4(k,a,i):\n",
    "    return(k+(m.sqrt((((k)**2)+((a)**2))+i)))\n",
    "formula4(int(input(\"Enter number 1 :\")),int(input(\"Enter number 2 :\")),int(input(\"Enter number 3 :\")))"
   ]
  }
 ],
 "metadata": {
  "kernelspec": {
   "display_name": "Python 3 (ipykernel)",
   "language": "python",
   "name": "python3"
  },
  "language_info": {
   "codemirror_mode": {
    "name": "ipython",
    "version": 3
   },
   "file_extension": ".py",
   "mimetype": "text/x-python",
   "name": "python",
   "nbconvert_exporter": "python",
   "pygments_lexer": "ipython3",
   "version": "3.10.7"
  }
 },
 "nbformat": 4,
 "nbformat_minor": 5
}
