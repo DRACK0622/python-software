{
 "cells": [
  {
   "cell_type": "code",
   "execution_count": 3,
   "id": "111ddb5e-d077-4731-858a-540f2fa2854e",
   "metadata": {},
   "outputs": [
    {
     "name": "stdin",
     "output_type": "stream",
     "text": [
      "Enter a number:  7\n"
     ]
    },
    {
     "name": "stdout",
     "output_type": "stream",
     "text": [
      "7\n",
      "6\n",
      "5\n",
      "4\n",
      "3\n",
      "2\n",
      "1\n",
      "5040\n"
     ]
    }
   ],
   "source": [
    "def formula3(a):\n",
    "    if(a<=1):\n",
    "        print(a)\n",
    "        return(1)\n",
    "    else:\n",
    "        print(a)\n",
    "        return(a*formula3(a-1))\n",
    "\n",
    "print(formula3(int(input(\"Enter a number: \"))))"
   ]
  },
  {
   "cell_type": "code",
   "execution_count": null,
   "id": "2f3804ab-1956-4984-bb01-a9dab8f2590e",
   "metadata": {},
   "outputs": [],
   "source": []
  }
 ],
 "metadata": {
  "kernelspec": {
   "display_name": "Python 3 (ipykernel)",
   "language": "python",
   "name": "python3"
  },
  "language_info": {
   "codemirror_mode": {
    "name": "ipython",
    "version": 3
   },
   "file_extension": ".py",
   "mimetype": "text/x-python",
   "name": "python",
   "nbconvert_exporter": "python",
   "pygments_lexer": "ipython3",
   "version": "3.10.7"
  }
 },
 "nbformat": 4,
 "nbformat_minor": 5
}
