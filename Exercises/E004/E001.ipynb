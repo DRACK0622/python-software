{
 "cells": [
  {
   "cell_type": "code",
   "execution_count": 1,
   "id": "612545b2-e9ad-4152-9677-867f72aa8ca7",
   "metadata": {},
   "outputs": [
    {
     "name": "stdin",
     "output_type": "stream",
     "text": [
      "Enter an number:  -12\n"
     ]
    },
    {
     "data": {
      "text/plain": [
       "12"
      ]
     },
     "execution_count": 1,
     "metadata": {},
     "output_type": "execute_result"
    }
   ],
   "source": [
    "def gadr(num):\n",
    "    if(num<0):\n",
    "        return(-1*(num))\n",
    "    else:\n",
    "        return(num)\n",
    "\n",
    "gadr(int(input(\"Enter an number: \")))"
   ]
  }
 ],
 "metadata": {
  "kernelspec": {
   "display_name": "Python 3 (ipykernel)",
   "language": "python",
   "name": "python3"
  },
  "language_info": {
   "codemirror_mode": {
    "name": "ipython",
    "version": 3
   },
   "file_extension": ".py",
   "mimetype": "text/x-python",
   "name": "python",
   "nbconvert_exporter": "python",
   "pygments_lexer": "ipython3",
   "version": "3.10.7"
  }
 },
 "nbformat": 4,
 "nbformat_minor": 5
}
