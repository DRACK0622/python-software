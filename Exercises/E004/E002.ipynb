{
 "cells": [
  {
   "cell_type": "code",
   "execution_count": 3,
   "id": "751b4aa0-20a4-4dce-9095-3f9818a96749",
   "metadata": {},
   "outputs": [
    {
     "name": "stdin",
     "output_type": "stream",
     "text": [
      "Enter number 1:  15\n",
      "Enter number 2:  35\n"
     ]
    },
    {
     "data": {
      "text/plain": [
       "38.07886552931954"
      ]
     },
     "execution_count": 3,
     "metadata": {},
     "output_type": "execute_result"
    }
   ],
   "source": [
    "import math as m\n",
    "def formula1(a,b):\n",
    "    return(m.sqrt(((a)**2)+((b)**2)))\n",
    "formula1(int(input(\"Enter number 1: \")),int(input(\"Enter number 2: \")))"
   ]
  },
  {
   "cell_type": "code",
   "execution_count": null,
   "id": "ee5d1d4b-0192-4130-997c-b538ebccc5a7",
   "metadata": {},
   "outputs": [],
   "source": []
  }
 ],
 "metadata": {
  "kernelspec": {
   "display_name": "Python 3 (ipykernel)",
   "language": "python",
   "name": "python3"
  },
  "language_info": {
   "codemirror_mode": {
    "name": "ipython",
    "version": 3
   },
   "file_extension": ".py",
   "mimetype": "text/x-python",
   "name": "python",
   "nbconvert_exporter": "python",
   "pygments_lexer": "ipython3",
   "version": "3.10.7"
  }
 },
 "nbformat": 4,
 "nbformat_minor": 5
}
