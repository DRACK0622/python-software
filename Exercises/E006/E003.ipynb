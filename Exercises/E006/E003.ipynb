{
 "cells": [
  {
   "cell_type": "code",
   "execution_count": 3,
   "id": "6af99ac6-bb94-40ee-8434-e91342d651d0",
   "metadata": {},
   "outputs": [
    {
     "name": "stdin",
     "output_type": "stream",
     "text": [
      "Enter a text: dsafkld;jglkjsadlfkjalk;dsjfl;;askd;lkads\n",
      "Enter a character: d\n"
     ]
    },
    {
     "name": "stdout",
     "output_type": "stream",
     "text": [
      "6\n"
     ]
    }
   ],
   "source": [
    "def e003(txt,chr):\n",
    "    i=0\n",
    "    count=0\n",
    "    while(i<len(txt)):\n",
    "        if(txt[i]==chr):\n",
    "            count+=1\n",
    "        i+=1\n",
    "    print(count)\n",
    "e003(input('Enter a text:'),input('Enter a character:'))"
   ]
  },
  {
   "cell_type": "code",
   "execution_count": null,
   "id": "6eb39104-e398-418c-a527-89287210f02e",
   "metadata": {},
   "outputs": [],
   "source": []
  }
 ],
 "metadata": {
  "kernelspec": {
   "display_name": "Python 3 (ipykernel)",
   "language": "python",
   "name": "python3"
  },
  "language_info": {
   "codemirror_mode": {
    "name": "ipython",
    "version": 3
   },
   "file_extension": ".py",
   "mimetype": "text/x-python",
   "name": "python",
   "nbconvert_exporter": "python",
   "pygments_lexer": "ipython3",
   "version": "3.10.7"
  }
 },
 "nbformat": 4,
 "nbformat_minor": 5
}
