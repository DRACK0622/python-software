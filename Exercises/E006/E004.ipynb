{
 "cells": [
  {
   "cell_type": "code",
   "execution_count": 4,
   "id": "0e2bcf35-5889-46c2-bbfc-0120c0dcce18",
   "metadata": {},
   "outputs": [
    {
     "name": "stdin",
     "output_type": "stream",
     "text": [
      "Enter a number: 5\n"
     ]
    },
    {
     "name": "stdout",
     "output_type": "stream",
     "text": [
      "32.083333333333336\n"
     ]
    }
   ],
   "source": [
    "import math as m\n",
    "def fx(x):\n",
    "    return(m.pow(x,2)+(2*x))\n",
    "\n",
    "def fxp(x):\n",
    "    return((2*x)+2)\n",
    "\n",
    "def E004(x):\n",
    "    print(fx(x)-(fx(x)/fxp(x)))\n",
    "\n",
    "E004(int(input('Enter a number:')))"
   ]
  },
  {
   "cell_type": "code",
   "execution_count": null,
   "id": "a769734f-d222-4067-a8fe-7b6f3b0e22f1",
   "metadata": {},
   "outputs": [],
   "source": []
  }
 ],
 "metadata": {
  "kernelspec": {
   "display_name": "Python 3 (ipykernel)",
   "language": "python",
   "name": "python3"
  },
  "language_info": {
   "codemirror_mode": {
    "name": "ipython",
    "version": 3
   },
   "file_extension": ".py",
   "mimetype": "text/x-python",
   "name": "python",
   "nbconvert_exporter": "python",
   "pygments_lexer": "ipython3",
   "version": "3.10.7"
  }
 },
 "nbformat": 4,
 "nbformat_minor": 5
}
