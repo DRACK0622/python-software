{
 "cells": [
  {
   "cell_type": "code",
   "execution_count": 3,
   "id": "e925fad1-3eff-4b7a-a9b7-20fc0fb971d7",
   "metadata": {},
   "outputs": [
    {
     "name": "stdin",
     "output_type": "stream",
     "text": [
      "Enter a text: txt1\n",
      "Enter a character: x\n"
     ]
    },
    {
     "name": "stdout",
     "output_type": "stream",
     "text": [
      "1\n"
     ]
    }
   ],
   "source": [
    "def e002(txt,chr):\n",
    "    i=0\n",
    "    while(i<len(txt)):\n",
    "        if(txt[i]==chr):\n",
    "            print(i)\n",
    "        i+=1\n",
    "e002(input('Enter a text:'),input('Enter a character:'))"
   ]
  },
  {
   "cell_type": "code",
   "execution_count": null,
   "id": "966fda7b-05d2-4833-9a33-6fa11e8141df",
   "metadata": {},
   "outputs": [],
   "source": []
  }
 ],
 "metadata": {
  "kernelspec": {
   "display_name": "Python 3 (ipykernel)",
   "language": "python",
   "name": "python3"
  },
  "language_info": {
   "codemirror_mode": {
    "name": "ipython",
    "version": 3
   },
   "file_extension": ".py",
   "mimetype": "text/x-python",
   "name": "python",
   "nbconvert_exporter": "python",
   "pygments_lexer": "ipython3",
   "version": "3.10.7"
  }
 },
 "nbformat": 4,
 "nbformat_minor": 5
}
