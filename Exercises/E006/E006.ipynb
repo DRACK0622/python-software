{
 "cells": [
  {
   "cell_type": "code",
   "execution_count": 3,
   "id": "139fbae3-4fb9-4496-a7fe-f2f2c43d8ccb",
   "metadata": {},
   "outputs": [
    {
     "name": "stdout",
     "output_type": "stream",
     "text": [
      "AO\n",
      "bwm\n",
      "*+_@-\n"
     ]
    }
   ],
   "source": [
    "def E006(txt):\n",
    "    up=''\n",
    "    low=''\n",
    "    sign=''\n",
    "    for chr in txt:\n",
    "        if(chr.islower()):\n",
    "            low+=chr\n",
    "        elif(chr.isupper()):\n",
    "            up+=chr\n",
    "        else:\n",
    "            sign+=chr\n",
    "    print(up)\n",
    "    print(low)\n",
    "    print(sign)\n",
    "\n",
    "E006(\"*+_Ab@Owm-\")"
   ]
  },
  {
   "cell_type": "code",
   "execution_count": null,
   "id": "78da5c87-499f-41a0-8611-da258db2763b",
   "metadata": {},
   "outputs": [],
   "source": []
  }
 ],
 "metadata": {
  "kernelspec": {
   "display_name": "Python 3 (ipykernel)",
   "language": "python",
   "name": "python3"
  },
  "language_info": {
   "codemirror_mode": {
    "name": "ipython",
    "version": 3
   },
   "file_extension": ".py",
   "mimetype": "text/x-python",
   "name": "python",
   "nbconvert_exporter": "python",
   "pygments_lexer": "ipython3",
   "version": "3.10.7"
  }
 },
 "nbformat": 4,
 "nbformat_minor": 5
}
