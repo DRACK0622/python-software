{
 "cells": [
  {
   "cell_type": "code",
   "execution_count": 1,
   "id": "add49c15-7212-44ef-a0aa-fe0c9b1f5b03",
   "metadata": {},
   "outputs": [
    {
     "name": "stdin",
     "output_type": "stream",
     "text": [
      "Enter value of n:  1\n",
      "enter next value:  txt\n",
      "enter next value:  5\n",
      "enter next value:  8\n",
      "enter next value:  fs\n",
      "enter next value:  fr\n",
      "enter next value:  ae\n",
      "enter next value:  vf\n",
      "enter next value:  -1\n"
     ]
    },
    {
     "name": "stdout",
     "output_type": "stream",
     "text": [
      "['1', '5', '8', 'ae', 'fr', 'fs', 'txt', 'vf']\n"
     ]
    }
   ],
   "source": [
    "#E001\n",
    "def e001(n):\n",
    "    a=[]\n",
    "    while n!=-1 and n!='-1':\n",
    "        a.append(n)\n",
    "        n=input(\"enter next value: \")\n",
    "    a.sort()\n",
    "    print(a)\n",
    "\n",
    "e001(input('Enter value of n: '))"
   ]
  },
  {
   "cell_type": "code",
   "execution_count": 4,
   "id": "1757e174-b013-4596-83e0-a3d3582b8425",
   "metadata": {},
   "outputs": [
    {
     "name": "stdin",
     "output_type": "stream",
     "text": [
      "enter a text: text1\n"
     ]
    },
    {
     "ename": "TypeError",
     "evalue": "unsupported operand type(s) for +: 'int' and 'str'",
     "output_type": "error",
     "traceback": [
      "\u001b[1;31m---------------------------------------------------------------------------\u001b[0m",
      "\u001b[1;31mTypeError\u001b[0m                                 Traceback (most recent call last)",
      "Cell \u001b[1;32mIn[4], line 5\u001b[0m\n\u001b[0;32m      2\u001b[0m \u001b[38;5;28;01mdef\u001b[39;00m \u001b[38;5;21me002\u001b[39m(text):\n\u001b[0;32m      3\u001b[0m     \u001b[38;5;28mprint\u001b[39m(\u001b[38;5;28msum\u001b[39m(text))\n\u001b[1;32m----> 5\u001b[0m \u001b[43me002\u001b[49m\u001b[43m(\u001b[49m\u001b[38;5;28;43minput\u001b[39;49m\u001b[43m(\u001b[49m\u001b[38;5;124;43m'\u001b[39;49m\u001b[38;5;124;43menter a text:\u001b[39;49m\u001b[38;5;124;43m'\u001b[39;49m\u001b[43m)\u001b[49m\u001b[43m)\u001b[49m\n",
      "Cell \u001b[1;32mIn[4], line 3\u001b[0m, in \u001b[0;36me002\u001b[1;34m(text)\u001b[0m\n\u001b[0;32m      2\u001b[0m \u001b[38;5;28;01mdef\u001b[39;00m \u001b[38;5;21me002\u001b[39m(text):\n\u001b[1;32m----> 3\u001b[0m     \u001b[38;5;28mprint\u001b[39m(\u001b[38;5;28;43msum\u001b[39;49m\u001b[43m(\u001b[49m\u001b[43mtext\u001b[49m\u001b[43m)\u001b[49m)\n",
      "\u001b[1;31mTypeError\u001b[0m: unsupported operand type(s) for +: 'int' and 'str'"
     ]
    }
   ],
   "source": [
    "#E002\n",
    "def e002(text):\n",
    "    print(sum(text))\n",
    "\n",
    "e002(input('enter a text:'))"
   ]
  },
  {
   "cell_type": "code",
   "execution_count": 11,
   "id": "edb9686e-ae50-4f1d-96c7-af7e84ca6dac",
   "metadata": {},
   "outputs": [
    {
     "name": "stdin",
     "output_type": "stream",
     "text": [
      "Enter a text:  4893725798usdjkghjkdfhk^%^&^&$%^#@%#^%&IDHKSjkfd6g768JFDSFJHJSDHF\n"
     ]
    },
    {
     "name": "stdout",
     "output_type": "stream",
     "text": [
      "['I', 'D', 'H', 'K', 'S', 'J', 'F', 'D', 'S', 'F', 'J', 'H', 'J', 'S', 'D', 'H', 'F']\n",
      "['u', 's', 'd', 'j', 'k', 'g', 'h', 'j', 'k', 'd', 'f', 'h', 'k', 'j', 'k', 'f', 'd', 'g']\n",
      "['4', '8', '9', '3', '7', '2', '5', '7', '9', '8', '^', '%', '^', '&', '^', '&', '$', '%', '^', '#', '@', '%', '#', '^', '%', '&', '6', '7', '6', '8']\n"
     ]
    }
   ],
   "source": [
    "#E003\n",
    "def e003(text):\n",
    "    up=[]\n",
    "    low=[]\n",
    "    mark=[]\n",
    "    for a in text:\n",
    "        if(a.isalpha()):\n",
    "            if(a.isupper()):\n",
    "                up.append(a)\n",
    "            else:\n",
    "                low.append(a)\n",
    "        else:\n",
    "            mark.append(a)\n",
    "    print(up)\n",
    "    print(low)\n",
    "    print(mark)\n",
    "\n",
    "e003(input('Enter a text: '))"
   ]
  },
  {
   "cell_type": "code",
   "execution_count": 12,
   "id": "387ddfd2-0e45-49f7-8cb5-85eb6df61916",
   "metadata": {},
   "outputs": [
    {
     "ename": "TypeError",
     "evalue": "unsupported operand type(s) for -: 'list' and 'list'",
     "output_type": "error",
     "traceback": [
      "\u001b[1;31m---------------------------------------------------------------------------\u001b[0m",
      "\u001b[1;31mTypeError\u001b[0m                                 Traceback (most recent call last)",
      "Cell \u001b[1;32mIn[12], line 4\u001b[0m\n\u001b[0;32m      2\u001b[0m a\u001b[38;5;241m=\u001b[39m[\u001b[38;5;241m1\u001b[39m,\u001b[38;5;241m5\u001b[39m,\u001b[38;5;241m9\u001b[39m,\u001b[38;5;124m'\u001b[39m\u001b[38;5;124mali\u001b[39m\u001b[38;5;124m'\u001b[39m]\n\u001b[0;32m      3\u001b[0m b\u001b[38;5;241m=\u001b[39m[\u001b[38;5;241m2\u001b[39m,\u001b[38;5;241m3\u001b[39m,\u001b[38;5;241m4\u001b[39m,\u001b[38;5;124m'\u001b[39m\u001b[38;5;124ma\u001b[39m\u001b[38;5;124m'\u001b[39m]\n\u001b[1;32m----> 4\u001b[0m \u001b[38;5;28mprint\u001b[39m(\u001b[43ma\u001b[49m\u001b[38;5;241;43m-\u001b[39;49m\u001b[43mb\u001b[49m)\n",
      "\u001b[1;31mTypeError\u001b[0m: unsupported operand type(s) for -: 'list' and 'list'"
     ]
    }
   ],
   "source": [
    "#E004\n",
    "a=[1,5,9,'ali']\n",
    "b=[2,3,4,'a']\n",
    "print(a-b)"
   ]
  },
  {
   "cell_type": "code",
   "execution_count": 14,
   "id": "b8424ace-8b0a-4b65-9fe8-284f2ef0ffbd",
   "metadata": {},
   "outputs": [
    {
     "name": "stdin",
     "output_type": "stream",
     "text": [
      "Enter value of n:  5343\n",
      "enter next value:  35354\n",
      "enter next value:  534534\n",
      "enter next value:  35434\n",
      "enter next value:  68985\n",
      "enter next value:  93534\n",
      "enter next value:  -1\n"
     ]
    },
    {
     "name": "stdout",
     "output_type": "stream",
     "text": [
      "5343\n",
      "534534\n",
      "68985\n",
      "['35354', '35434', '93534']\n"
     ]
    }
   ],
   "source": [
    "#E005\n",
    "#نمیدونم چرا ولی فقط نصف عانصر لیست رو پیمایش  و حذف میکند\n",
    "def e005(n):\n",
    "    a=[]\n",
    "    while n!=-1 and n!='-1':\n",
    "        a.append(n)\n",
    "        n=input(\"enter next value: \")\n",
    "    for b in a:\n",
    "        print(b)\n",
    "        a.remove(b)\n",
    "    print(a)\n",
    "\n",
    "e005(input('Enter value of n: '))"
   ]
  },
  {
   "cell_type": "code",
   "execution_count": 15,
   "id": "07dbd21b-dd6f-41d7-a1a3-b2fc053b753c",
   "metadata": {},
   "outputs": [
    {
     "name": "stdout",
     "output_type": "stream",
     "text": [
      "[1, 7, 5, 8, 6, 9]\n"
     ]
    }
   ],
   "source": [
    "#E006\n",
    "a=[1,5,6]\n",
    "b=[7,8,9]\n",
    "c=[]\n",
    "for i in range(len(a)):\n",
    "    c.append(a[i])\n",
    "    c.append(b[i])\n",
    "\n",
    "print(c)"
   ]
  },
  {
   "cell_type": "code",
   "execution_count": null,
   "id": "ccb07679-197c-4dc1-8b2b-70d5ea07b3b6",
   "metadata": {},
   "outputs": [],
   "source": [
    "#E007\n",
    "x=['m','na','i','Am']\n",
    "y=['y']"
   ]
  }
 ],
 "metadata": {
  "kernelspec": {
   "display_name": "Python 3 (ipykernel)",
   "language": "python",
   "name": "python3"
  },
  "language_info": {
   "codemirror_mode": {
    "name": "ipython",
    "version": 3
   },
   "file_extension": ".py",
   "mimetype": "text/x-python",
   "name": "python",
   "nbconvert_exporter": "python",
   "pygments_lexer": "ipython3",
   "version": "3.10.7"
  }
 },
 "nbformat": 4,
 "nbformat_minor": 5
}
