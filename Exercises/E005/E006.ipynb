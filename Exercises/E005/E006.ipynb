{
 "cells": [
  {
   "cell_type": "code",
   "execution_count": 11,
   "id": "fd3b044d-b942-4677-ab7f-30a2728b5900",
   "metadata": {},
   "outputs": [
    {
     "name": "stdin",
     "output_type": "stream",
     "text": [
      "enter test:  Ara\n"
     ]
    },
    {
     "name": "stdout",
     "output_type": "stream",
     "text": [
      "True\n"
     ]
    }
   ],
   "source": [
    "def e006(text):\n",
    "    a=\"\"\n",
    "\n",
    "    c=len(text)\n",
    "    c*=-1\n",
    "    counter=0\n",
    "    while(counter>c):\n",
    "        counter-=1\n",
    "        a+=text[counter]\n",
    "    print(a==text)\n",
    "\n",
    "e006(input(\"enter test: \").lower())\n",
    "#تابع .lower از افزونه grepper به دست آمد"
   ]
  },
  {
   "cell_type": "code",
   "execution_count": null,
   "id": "c5524ee5-7c83-41c9-8334-8253b5765cb8",
   "metadata": {},
   "outputs": [],
   "source": []
  }
 ],
 "metadata": {
  "kernelspec": {
   "display_name": "Python 3 (ipykernel)",
   "language": "python",
   "name": "python3"
  },
  "language_info": {
   "codemirror_mode": {
    "name": "ipython",
    "version": 3
   },
   "file_extension": ".py",
   "mimetype": "text/x-python",
   "name": "python",
   "nbconvert_exporter": "python",
   "pygments_lexer": "ipython3",
   "version": "3.10.7"
  }
 },
 "nbformat": 4,
 "nbformat_minor": 5
}
