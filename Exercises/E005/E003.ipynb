{
 "cells": [
  {
   "cell_type": "code",
   "execution_count": 1,
   "id": "d53d61e9-7db2-4909-b7c9-373c5c026afc",
   "metadata": {},
   "outputs": [
    {
     "name": "stdin",
     "output_type": "stream",
     "text": [
      "Enter a number: 5\n",
      "Enter a number: 3\n",
      "Enter a number: 6\n"
     ]
    },
    {
     "name": "stdout",
     "output_type": "stream",
     "text": [
      "0.5773502691896257\n"
     ]
    }
   ],
   "source": [
    "import math as m\n",
    "\n",
    "def e003(x,y,t):\n",
    "    print(m.sqrt((x-y)/t))\n",
    "\n",
    "e003(int(input('Enter a number:')),int(input('Enter a number:')),int(input('Enter a number:')))"
   ]
  }
 ],
 "metadata": {
  "kernelspec": {
   "display_name": "Python 3 (ipykernel)",
   "language": "python",
   "name": "python3"
  },
  "language_info": {
   "codemirror_mode": {
    "name": "ipython",
    "version": 3
   },
   "file_extension": ".py",
   "mimetype": "text/x-python",
   "name": "python",
   "nbconvert_exporter": "python",
   "pygments_lexer": "ipython3",
   "version": "3.10.7"
  }
 },
 "nbformat": 4,
 "nbformat_minor": 5
}
