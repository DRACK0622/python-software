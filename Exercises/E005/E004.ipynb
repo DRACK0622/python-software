{
 "cells": [
  {
   "cell_type": "code",
   "execution_count": 1,
   "id": "a3b06dab-d0fe-4345-b12f-c0addb18df03",
   "metadata": {},
   "outputs": [
    {
     "name": "stdin",
     "output_type": "stream",
     "text": [
      "Enter a number: 5\n",
      "Enter a number: 3\n",
      "Enter a number: 6\n",
      "Enter a number: 7\n"
     ]
    },
    {
     "name": "stdout",
     "output_type": "stream",
     "text": [
      "11\n"
     ]
    }
   ],
   "source": [
    "def e004(x,a,n,y):\n",
    "    print(x-(a*(2*(n-y))))\n",
    "\n",
    "e004(int(input('Enter a number:')),int(input('Enter a number:')),int(input('Enter a number:')),int(input('Enter a number:')))"
   ]
  },
  {
   "cell_type": "code",
   "execution_count": null,
   "id": "dfc41e5e-b770-47d2-adf9-25aa92a59357",
   "metadata": {},
   "outputs": [],
   "source": []
  }
 ],
 "metadata": {
  "kernelspec": {
   "display_name": "Python 3 (ipykernel)",
   "language": "python",
   "name": "python3"
  },
  "language_info": {
   "codemirror_mode": {
    "name": "ipython",
    "version": 3
   },
   "file_extension": ".py",
   "mimetype": "text/x-python",
   "name": "python",
   "nbconvert_exporter": "python",
   "pygments_lexer": "ipython3",
   "version": "3.10.7"
  }
 },
 "nbformat": 4,
 "nbformat_minor": 5
}
