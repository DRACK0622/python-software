{
 "cells": [
  {
   "cell_type": "code",
   "execution_count": 3,
   "id": "1830cc80-d9d7-463d-9e5a-0ec5766f490b",
   "metadata": {},
   "outputs": [
    {
     "name": "stdin",
     "output_type": "stream",
     "text": [
      "Enter opp 15\n",
      "Enter adj 14\n",
      "Enter nyp 2\n"
     ]
    },
    {
     "name": "stdout",
     "output_type": "stream",
     "text": [
      "52.5\n"
     ]
    }
   ],
   "source": [
    "def sign(opp,nyp):\n",
    "    return(opp/nyp)\n",
    "\n",
    "def cosing(opp,adj):\n",
    "    return(opp/adj)\n",
    "    \n",
    "def e002():\n",
    "    opp=int(input('Enter opp'))\n",
    "    adj=int(input('Enter adj'))\n",
    "    nyp=int(input('Enter nyp'))\n",
    "    print((sign(opp,nyp)/cosing(opp,adj))*sign(opp,nyp))\n",
    "\n",
    "e002()"
   ]
  },
  {
   "cell_type": "code",
   "execution_count": null,
   "id": "8bf0dc6d-e562-4d54-9fe3-869b3d61b7c4",
   "metadata": {},
   "outputs": [],
   "source": []
  }
 ],
 "metadata": {
  "kernelspec": {
   "display_name": "Python 3 (ipykernel)",
   "language": "python",
   "name": "python3"
  },
  "language_info": {
   "codemirror_mode": {
    "name": "ipython",
    "version": 3
   },
   "file_extension": ".py",
   "mimetype": "text/x-python",
   "name": "python",
   "nbconvert_exporter": "python",
   "pygments_lexer": "ipython3",
   "version": "3.10.7"
  }
 },
 "nbformat": 4,
 "nbformat_minor": 5
}
