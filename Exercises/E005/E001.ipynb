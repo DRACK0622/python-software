{
 "cells": [
  {
   "cell_type": "code",
   "execution_count": 2,
   "id": "ae48fb37-d606-4fea-8fb1-133e3c53d41c",
   "metadata": {},
   "outputs": [
    {
     "name": "stdin",
     "output_type": "stream",
     "text": [
      "Enter opp 15\n",
      "Enter adj 22\n",
      "Enter nyp 3\n"
     ]
    },
    {
     "name": "stdout",
     "output_type": "stream",
     "text": [
      "5.681818181818182\n"
     ]
    }
   ],
   "source": [
    "def sign(opp,nyp):\n",
    "    return(opp/nyp)\n",
    "\n",
    "def cosing(opp,adj):\n",
    "    return(opp/adj)\n",
    "\n",
    "def e001():\n",
    "    opp=int(input('Enter opp'))\n",
    "    adj=int(input('Enter adj'))\n",
    "    nyp=int(input('Enter nyp'))\n",
    "    print(sign(opp,nyp)+cosing(opp,adj))\n",
    "\n",
    "e001()"
   ]
  },
  {
   "cell_type": "code",
   "execution_count": null,
   "id": "b62e3ea9-702a-4f13-b3a3-a57a95219ead",
   "metadata": {},
   "outputs": [],
   "source": []
  }
 ],
 "metadata": {
  "kernelspec": {
   "display_name": "Python 3 (ipykernel)",
   "language": "python",
   "name": "python3"
  },
  "language_info": {
   "codemirror_mode": {
    "name": "ipython",
    "version": 3
   },
   "file_extension": ".py",
   "mimetype": "text/x-python",
   "name": "python",
   "nbconvert_exporter": "python",
   "pygments_lexer": "ipython3",
   "version": "3.10.7"
  }
 },
 "nbformat": 4,
 "nbformat_minor": 5
}
